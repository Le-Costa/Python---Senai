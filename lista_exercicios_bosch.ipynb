{
 "cells": [
  {
   "cell_type": "markdown",
   "id": "f682aee6",
   "metadata": {},
   "source": [
    "#### Exercício 1: Criando um Dicionário\n",
    "Crie um dicionário chamado cidades_populacao que armazene o nome de três cidades e suas respectivas populações (valores inteiros). Use os nomes das cidades como chaves e as populações como valores."
   ]
  },
  {
   "cell_type": "code",
   "execution_count": 2,
   "id": "045983f1",
   "metadata": {},
   "outputs": [],
   "source": [
    "CidadesPopulacao = {'Anastácio':25.237,'Aquidauana':46.803,'Campo Grande':962.883}"
   ]
  },
  {
   "cell_type": "markdown",
   "id": "3692695c",
   "metadata": {},
   "source": [
    "#### Exercício 2: Acessando e Imprimindo um Valor\n",
    "Usando o dicionário que você criou no Exercício 1, acesse e imprima a população de uma das cidades."
   ]
  },
  {
   "cell_type": "code",
   "execution_count": 3,
   "id": "fa838c12",
   "metadata": {},
   "outputs": [
    {
     "name": "stdout",
     "output_type": "stream",
     "text": [
      "46.803\n"
     ]
    }
   ],
   "source": [
    "print(CidadesPopulacao['Aquidauana'])"
   ]
  },
  {
   "cell_type": "markdown",
   "id": "529118d1",
   "metadata": {},
   "source": [
    "#### Exercício 3: Adicionando um Novo Par de Chave-Valor\n",
    "Adicione uma nova cidade e sua população ao dicionário cidades_populacao que você criou. Em seguida, imprima o dicionário inteiro para confirmar a adição."
   ]
  },
  {
   "cell_type": "code",
   "execution_count": null,
   "id": "9f9acf41",
   "metadata": {},
   "outputs": [],
   "source": [
    "CidadesPopulacao['Colombo']= 232.212\n"
   ]
  },
  {
   "cell_type": "code",
   "execution_count": 6,
   "id": "f16ca064",
   "metadata": {},
   "outputs": [
    {
     "name": "stdout",
     "output_type": "stream",
     "text": [
      "{'Anastácio': 25.237, 'Aquidauana': 46.803, 'Campo Grande': 962.883, 'Colombo': 232.212}\n"
     ]
    }
   ],
   "source": [
    "print(CidadesPopulacao)"
   ]
  },
  {
   "cell_type": "markdown",
   "id": "541696f5",
   "metadata": {},
   "source": [
    "#### Exercício 4: Alterando um Valor Existente\n",
    "Altere a população de uma das cidades que já está no dicionário cidades_populacao. Imprima o dicionário para verificar a mudança."
   ]
  },
  {
   "cell_type": "code",
   "execution_count": 7,
   "id": "8e6fe0f8",
   "metadata": {},
   "outputs": [
    {
     "name": "stdout",
     "output_type": "stream",
     "text": [
      "{'Anastácio': 25.237, 'Aquidauana': 46.803, 'Campo Grande': 962.883, 'Colombo': 200.0}\n"
     ]
    }
   ],
   "source": [
    "CidadesPopulacao['Colombo'] = 200.000\n",
    "print (CidadesPopulacao)"
   ]
  },
  {
   "cell_type": "markdown",
   "id": "d96dd765",
   "metadata": {},
   "source": [
    "#### Exercício 5: Obtendo Todas as Chaves\n",
    "Usando o método keys(), imprima todas as chaves (os nomes das cidades) do seu dicionário."
   ]
  },
  {
   "cell_type": "code",
   "execution_count": 8,
   "id": "1c1c093b",
   "metadata": {},
   "outputs": [
    {
     "name": "stdout",
     "output_type": "stream",
     "text": [
      "dict_keys(['Anastácio', 'Aquidauana', 'Campo Grande', 'Colombo'])\n"
     ]
    }
   ],
   "source": [
    "print(CidadesPopulacao.keys())"
   ]
  },
  {
   "cell_type": "markdown",
   "id": "d81eb799",
   "metadata": {},
   "source": [
    "#### Exercício 6: Obtendo Todos os Valores\n",
    "Usando o método values(), imprima todas as populações (os valores) do seu dicionário."
   ]
  },
  {
   "cell_type": "code",
   "execution_count": 9,
   "id": "53571219",
   "metadata": {},
   "outputs": [
    {
     "name": "stdout",
     "output_type": "stream",
     "text": [
      "dict_values([25.237, 46.803, 962.883, 200.0])\n"
     ]
    }
   ],
   "source": [
    "print(CidadesPopulacao.values())"
   ]
  },
  {
   "cell_type": "markdown",
   "id": "f98a2962",
   "metadata": {},
   "source": [
    "#### Exercício 7: Combinando Dicionários\n",
    "Crie um segundo dicionário chamado novas_cidades com duas novas cidades. Em seguida, use o método update() para adicionar os itens de novas_cidades ao seu dicionário original cidades_populacao. Por fim, imprima o dicionário cidades_populacao para ver o resultado da fusão."
   ]
  },
  {
   "cell_type": "code",
   "execution_count": 10,
   "id": "ee00e73d",
   "metadata": {},
   "outputs": [
    {
     "name": "stdout",
     "output_type": "stream",
     "text": [
      "{'Anastácio': 25.237, 'Aquidauana': 46.803, 'Campo Grande': 962.883, 'Colombo': 200.0, 'Curitiba': 1.830795, 'Cascavel': 368.195}\n"
     ]
    }
   ],
   "source": [
    "NovasCidades = {'Curitiba':1.830795,'Cascavel':368.195}\n",
    "CidadesPopulacao.update(NovasCidades)\n",
    "\n",
    "print(CidadesPopulacao)"
   ]
  },
  {
   "cell_type": "markdown",
   "id": "84b07d81",
   "metadata": {},
   "source": [
    "#### Exercício 8: Dicionário de Livro\n",
    "Crie um dicionário chamado livro com as seguintes chaves e valores: 'titulo', 'autor' e 'ano_publicacao'. Em seguida, imprima o título e o ano do livro em uma única linha, usando os valores do dicionário."
   ]
  },
  {
   "cell_type": "code",
   "execution_count": 18,
   "id": "6c906b8b",
   "metadata": {},
   "outputs": [
    {
     "name": "stdout",
     "output_type": "stream",
     "text": [
      "Querida Tia 02/06/2025\n"
     ]
    }
   ],
   "source": [
    "livro = {'Titulo':'Querida Tia','Autor':'Valérie Perrin','Ano de Publicação':'02/06/2025'}\n",
    "print(livro['Titulo'],livro['Ano de Publicação'])"
   ]
  },
  {
   "cell_type": "markdown",
   "id": "45017018",
   "metadata": {},
   "source": [
    "#### Exercício 9: Adicionando um Novo Campo\n",
    "Adicione a chave 'genero' com um valor de sua escolha ao dicionário livro do exercício anterior. Imprima o dicionário completo para verificar."
   ]
  },
  {
   "cell_type": "code",
   "execution_count": 19,
   "id": "2779bd7b",
   "metadata": {},
   "outputs": [
    {
     "name": "stdout",
     "output_type": "stream",
     "text": [
      "{'Titulo': 'Querida Tia', 'Autor': 'Valérie Perrin', 'Ano de Publicação': '02/06/2025', 'Genêro': 'Romance'}\n"
     ]
    }
   ],
   "source": [
    "livro['Genêro'] ='Romance'\n",
    "print(livro)"
   ]
  },
  {
   "cell_type": "markdown",
   "id": "736f8226",
   "metadata": {},
   "source": [
    "#### Exercício 10: Removendo um Item\n",
    "Remova a chave 'ano_publicacao' do dicionário livro. Você pode usar o comando del ou o método pop(). Imprima o dicionário para confirmar que a chave foi removida."
   ]
  },
  {
   "cell_type": "code",
   "execution_count": 20,
   "id": "fe0deb21",
   "metadata": {},
   "outputs": [
    {
     "name": "stdout",
     "output_type": "stream",
     "text": [
      "{'Titulo': 'Querida Tia', 'Autor': 'Valérie Perrin', 'Genêro': 'Romance'}\n"
     ]
    }
   ],
   "source": [
    "del livro['Ano de Publicação']\n",
    "print(livro)"
   ]
  },
  {
   "cell_type": "markdown",
   "id": "6d4521b5",
   "metadata": {},
   "source": [
    "#### Exercício 11: Verificando a Existência de uma Chave\n",
    "Crie um dicionário simples. Use o operador in para verificar se uma chave específica está presente no dicionário. Imprima uma mensagem para o usuário informando se a chave foi encontrada ou não."
   ]
  },
  {
   "cell_type": "code",
   "execution_count": null,
   "id": "90000629",
   "metadata": {},
   "outputs": [
    {
     "name": "stdout",
     "output_type": "stream",
     "text": [
      "Autor esta emlivros\n"
     ]
    }
   ],
   "source": [
    "livros ={'Titulo':'Quarta Asa','Autor':'Rebeca Yarros','Genero':'Romantasia'}\n",
    "if 'Autor' in livros: \n",
    "    print(\"Autor esta em livros\")\n",
    "else:\n",
    "    print(\"Não esta em livros\")\n",
    "\n",
    "\n",
    "\n",
    "    "
   ]
  },
  {
   "cell_type": "markdown",
   "id": "c37e76d6",
   "metadata": {},
   "source": [
    "#### Exercício 12: Iterando Sobre Chaves e Valores\n",
    "Crie um dicionário com pelo menos 4 pares de chave-valor. Usando um loop for, imprima cada par de chave e valor no formato: 'A chave é [chave] e o valor é [valor]'."
   ]
  },
  {
   "cell_type": "code",
   "execution_count": 29,
   "id": "33977053",
   "metadata": {},
   "outputs": [
    {
     "name": "stdout",
     "output_type": "stream",
     "text": [
      "A chave é Carbonara e o valor é Italiano\n",
      "A chave é Feijoada e o valor é Brasileira\n",
      "A chave é Tacos e o valor é Mexicano\n",
      "A chave é Strogonoff e o valor é Russo\n",
      "A chave é Petit Gateu e o valor é França\n"
     ]
    }
   ],
   "source": [
    "PratosTip = {'Carbonara': 'Italiano','Feijoada':'Brasileira','Tacos':'Mexicano','Strogonoff':'Russo','Petit Gateu':'França'}\n",
    "\n",
    "for comidas, Pais in PratosTip.items():\n",
    "    print(f\"A chave é {comidas} e o valor é {Pais}\")\n",
    "    "
   ]
  }
 ],
 "metadata": {
  "kernelspec": {
   "display_name": "rstudio",
   "language": "python",
   "name": "python3"
  },
  "language_info": {
   "codemirror_mode": {
    "name": "ipython",
    "version": 3
   },
   "file_extension": ".py",
   "mimetype": "text/x-python",
   "name": "python",
   "nbconvert_exporter": "python",
   "pygments_lexer": "ipython3",
   "version": "3.7.1"
  }
 },
 "nbformat": 4,
 "nbformat_minor": 5
}
