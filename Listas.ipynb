{
 "cells": [
  {
   "cell_type": "code",
   "execution_count": null,
   "id": "00325131",
   "metadata": {},
   "outputs": [
    {
     "name": "stdout",
     "output_type": "stream",
     "text": [
      "2\n",
      "4\n",
      "6\n",
      "[9, 4, 6]\n"
     ]
    }
   ],
   "source": [
    "lista = [2,4,6]\n",
    "frutas = [\"maçã\", \"banana\", \"laranja\"]\n",
    "mista = [\"Olá\", 10, True, 3.14]\n",
    "listaVazia = [] #Útil para começar e adicionar itens depois\n",
    "\n",
    "#Vetor na posicão 1 na lista\n",
    "\n",
    "print(lista[1])\n",
    "\n",
    "#Fruta na posição 2\n",
    "\n",
    "print(lista[1])\n",
    "\n",
    "#Item 3 de mista \n",
    "\n",
    "print(lista[2])\n",
    "\n",
    "# trocar numero na posicao 0 por 9. e mostrar a lista atualizada\n",
    "\n",
    "lista[0]= 9\n",
    "print(lista)\n"
   ]
  },
  {
   "cell_type": "markdown",
   "id": "f5692d26",
   "metadata": {},
   "source": [
    "1. Crie uma lista chamada cores com suas três cores favoritas.\n",
    "2. Crie uma lista chamada numeros com cinco números inteiros.\n",
    "3. Crie uma lista chamada misturada com pelo menos um número e uma string.\n",
    "4. Mostrar os itens"
   ]
  },
  {
   "cell_type": "code",
   "execution_count": null,
   "id": "8daed984",
   "metadata": {},
   "outputs": [],
   "source": [
    "cores = [\"roxo\",\"preto\",\"rosa\"]\n",
    "numeros= [50,45,40,35,30]\n",
    "misturada =[\"Leticia\",19]\n",
    "\n",
    "print(cores,\"\",numeros,\"\",misturada)"
   ]
  },
  {
   "cell_type": "markdown",
   "id": "d458b85f",
   "metadata": {},
   "source": [
    "Mostrar todos os itens da lista usando for"
   ]
  },
  {
   "cell_type": "code",
   "execution_count": 10,
   "id": "1883e8cf",
   "metadata": {},
   "outputs": [
    {
     "name": "stdout",
     "output_type": "stream",
     "text": [
      "3\n",
      "Memória RAM\n",
      "HDD\n",
      "SSD\n"
     ]
    }
   ],
   "source": [
    "produtos = ['Memória RAM','HDD','SSD']\n",
    "\n",
    "print(len(produtos))\n",
    "\n",
    "for i in range(0,len(produtos)):\n",
    "    print(produtos[i])\n",
    "\n"
   ]
  },
  {
   "cell_type": "markdown",
   "id": "b42e9918",
   "metadata": {},
   "source": [
    "append() - adiciona um item no final da lista"
   ]
  },
  {
   "cell_type": "code",
   "execution_count": 11,
   "id": "a0b6b080",
   "metadata": {},
   "outputs": [
    {
     "name": "stdout",
     "output_type": "stream",
     "text": [
      "['Memória RAM', 'HDD', 'SSD', 'mouse']\n"
     ]
    }
   ],
   "source": [
    "produtos.append(\"mouse\")\n",
    "print(produtos)"
   ]
  },
  {
   "cell_type": "markdown",
   "id": "5693ebf5",
   "metadata": {},
   "source": [
    "extend() - Adiciona vários elementos ao final da lista. Inserir como lista."
   ]
  },
  {
   "cell_type": "code",
   "execution_count": null,
   "id": "2dc29211",
   "metadata": {},
   "outputs": [
    {
     "name": "stdout",
     "output_type": "stream",
     "text": [
      "['laranja', 'Memória RAM', 'HDD', 'SSD', 'mouse', 'm', 'o', 'u', 's', 'e']\n"
     ]
    }
   ],
   "source": [
    "produtos.extend(['mouse'])\n",
    "print(produtos)\n"
   ]
  },
  {
   "cell_type": "code",
   "execution_count": 43,
   "id": "9ec05c12",
   "metadata": {},
   "outputs": [
    {
     "name": "stdout",
     "output_type": "stream",
     "text": [
      "['laranja', 'Memória RAM', 'HDD', 'SSD', 'mouse']\n"
     ]
    }
   ],
   "source": [
    "print(produtos)\n"
   ]
  },
  {
   "cell_type": "markdown",
   "id": "0b713869",
   "metadata": {},
   "source": [
    "insert() - Insere um item em uma posição específica da lista. O primeiro argumento é o índice onde o item será inserido, e o segundo é o item a ser inserido"
   ]
  },
  {
   "cell_type": "code",
   "execution_count": 44,
   "id": "90f65505",
   "metadata": {},
   "outputs": [
    {
     "name": "stdout",
     "output_type": "stream",
     "text": [
      "['laranja', 'laranja', 'Memória RAM', 'HDD', 'SSD', 'mouse']\n"
     ]
    }
   ],
   "source": [
    "produtos.insert(0,'laranja')\n",
    "print(produtos)"
   ]
  },
  {
   "cell_type": "markdown",
   "id": "cb484980",
   "metadata": {},
   "source": [
    "remove() - Remove o primeiro item encontrado na lista que tenha o valor especificado. Se o item não for encontrado, um erro será gerado.\n"
   ]
  },
  {
   "cell_type": "code",
   "execution_count": 46,
   "id": "5cc97c37",
   "metadata": {},
   "outputs": [
    {
     "name": "stdout",
     "output_type": "stream",
     "text": [
      "['Memória RAM', 'HDD', 'SSD', 'mouse']\n"
     ]
    }
   ],
   "source": [
    "produtos.remove('laranja')\n",
    "print(produtos)"
   ]
  },
  {
   "cell_type": "markdown",
   "id": "6549dffd",
   "metadata": {},
   "source": [
    "pop() - em Python é um método versátil que remove um item de uma coleção através do índice. Se nenhum índice for passado, o método remove o último item da lista."
   ]
  },
  {
   "cell_type": "code",
   "execution_count": 47,
   "id": "c0b611ed",
   "metadata": {},
   "outputs": [
    {
     "name": "stdout",
     "output_type": "stream",
     "text": [
      "['Memória RAM', 'HDD', 'SSD']\n"
     ]
    }
   ],
   "source": [
    "produtos.pop()\n",
    "print(produtos)"
   ]
  },
  {
   "cell_type": "markdown",
   "id": "d44c8920",
   "metadata": {},
   "source": [
    "clear() - Remove todos os itens da lista, deixando-a vazia."
   ]
  },
  {
   "cell_type": "code",
   "execution_count": 48,
   "id": "39493fdf",
   "metadata": {},
   "outputs": [
    {
     "name": "stdout",
     "output_type": "stream",
     "text": [
      "None\n"
     ]
    }
   ],
   "source": [
    "lista = [1,2,3,4]\n",
    "print(lista.clear())"
   ]
  },
  {
   "cell_type": "markdown",
   "id": "defcc978",
   "metadata": {},
   "source": [
    "index() Retorna o índice do primeiro item encontrado com o valor especificado. Se o valor não for encontrado, gerará um erro. Criar uma variável para retorno."
   ]
  },
  {
   "cell_type": "code",
   "execution_count": 49,
   "id": "3bfb5a67",
   "metadata": {},
   "outputs": [
    {
     "name": "stdout",
     "output_type": "stream",
     "text": [
      "1\n"
     ]
    }
   ],
   "source": [
    "variavel = produtos.index('HDD')\n",
    "print(variavel)"
   ]
  },
  {
   "cell_type": "markdown",
   "id": "330ffa14",
   "metadata": {},
   "source": [
    "count() - Retorna o número de vezes que um item aparece na lista. Criar uma variável para retornar a quantidade."
   ]
  },
  {
   "cell_type": "code",
   "execution_count": 55,
   "id": "5f67eab5",
   "metadata": {},
   "outputs": [
    {
     "name": "stdout",
     "output_type": "stream",
     "text": [
      "3\n"
     ]
    }
   ],
   "source": [
    "#produtos.insert(0,'laranja')\n",
    "\n",
    "\n",
    "laranjas = produtos.count('laranja')\n",
    "print(laranjas)\n"
   ]
  },
  {
   "cell_type": "markdown",
   "id": "8764604b",
   "metadata": {},
   "source": [
    "sort() - Ordena os elementos da lista em ordem crescente. O método altera a lista original."
   ]
  },
  {
   "cell_type": "code",
   "execution_count": 59,
   "id": "4b524bd0",
   "metadata": {},
   "outputs": [
    {
     "name": "stdout",
     "output_type": "stream",
     "text": [
      "['alencar', 'amanda', 'carlos', 'judite', 'zinho']\n"
     ]
    }
   ],
   "source": [
    "itens = ['carlos','alencar','judite','zinho','amanda']\n",
    "itensOrdenados= itens\n",
    "itensOrdenados.sort()\n",
    "\n",
    "print (itensOrdenados) \n"
   ]
  },
  {
   "cell_type": "markdown",
   "id": "9ecf2fb7",
   "metadata": {},
   "source": [
    "reverse() - Inverte a ordem dos elementos na lista. A lista original é modificada."
   ]
  },
  {
   "cell_type": "code",
   "execution_count": null,
   "id": "f2d57f3f",
   "metadata": {},
   "outputs": [
    {
     "name": "stdout",
     "output_type": "stream",
     "text": [
      "[7, 3, 5, 4]\n"
     ]
    }
   ],
   "source": [
    "lista01 = [4,5,3,7]\n",
    "lista2 = lista01[:]#copia a lista\n",
    "\n",
    "lista2.reverse()\n",
    "print(lista2)"
   ]
  },
  {
   "cell_type": "markdown",
   "id": "c6c39707",
   "metadata": {},
   "source": [
    "split() é um método de string em Python que divide uma string em uma lista de substrings. Criar uma variável para armazenar as substrings.\n"
   ]
  },
  {
   "cell_type": "code",
   "execution_count": 65,
   "id": "4213694e",
   "metadata": {},
   "outputs": [
    {
     "name": "stdout",
     "output_type": "stream",
     "text": [
      "['Análise', 'Curso', 'Dados', 'SENAI', 'de', 'no']\n"
     ]
    }
   ],
   "source": [
    "texto = \"Curso Análise de Dados no SENAI\"\n",
    "\n",
    "textoDividido = texto.split()\n",
    "\n",
    "textoDividido.sort()\n",
    "print(textoDividido)"
   ]
  },
  {
   "cell_type": "markdown",
   "id": "0705db32",
   "metadata": {},
   "source": [
    "Neste exemplo, manipulamos uma lista de tarefas usando os métodos append(), remove(), sort() e \n",
    "index(). As operações incluem adicionar, remover, ordenar e encontrar o índice de uma paça na \n",
    "lista."
   ]
  },
  {
   "cell_type": "code",
   "execution_count": 67,
   "id": "83409132",
   "metadata": {},
   "outputs": [],
   "source": [
    "# Lista inicial de peças em estoque\n",
    "pecas = ['rolamento', 'parafuso', 'engrenagem', 'motor', 'correia']"
   ]
  },
  {
   "cell_type": "code",
   "execution_count": 68,
   "id": "6a93c815",
   "metadata": {},
   "outputs": [
    {
     "name": "stdout",
     "output_type": "stream",
     "text": [
      "['rolamento', 'parafuso', 'engrenagem', 'motor', 'correia', 'filtro']\n"
     ]
    }
   ],
   "source": [
    "# Adiciona a peça 'filtro' à lista\n",
    "\n",
    "pecas.append('filtro')\n",
    "print(pecas)\n"
   ]
  },
  {
   "cell_type": "code",
   "execution_count": 69,
   "id": "54afa597",
   "metadata": {},
   "outputs": [
    {
     "name": "stdout",
     "output_type": "stream",
     "text": [
      "['rolamento', 'parafuso', 'engrenagem', 'correia', 'filtro']\n"
     ]
    }
   ],
   "source": [
    "# Remove a peça 'motor' da lista, que foi enviada para a linha de montagem\n",
    "pecas.remove('motor')\n",
    "print(pecas)\n"
   ]
  },
  {
   "cell_type": "code",
   "execution_count": 70,
   "id": "d49af0e1",
   "metadata": {},
   "outputs": [
    {
     "name": "stdout",
     "output_type": "stream",
     "text": [
      "['correia', 'engrenagem', 'filtro', 'parafuso', 'rolamento']\n"
     ]
    }
   ],
   "source": [
    "# Ordena a lista de peças em ordem alfabética para facilitar a organização\n",
    "pecas.sort()\n",
    "print(pecas)\n"
   ]
  },
  {
   "cell_type": "code",
   "execution_count": 71,
   "id": "86bc3d32",
   "metadata": {},
   "outputs": [
    {
     "name": "stdout",
     "output_type": "stream",
     "text": [
      "1\n"
     ]
    }
   ],
   "source": [
    "# Encontra o índice da peça 'engrenagem'\n",
    "Iengrenagem= pecas.index('engrenagem')\n",
    "print(Iengrenagem)\n"
   ]
  }
 ],
 "metadata": {
  "kernelspec": {
   "display_name": "spyder-runtime",
   "language": "python",
   "name": "python3"
  },
  "language_info": {
   "codemirror_mode": {
    "name": "ipython",
    "version": 3
   },
   "file_extension": ".py",
   "mimetype": "text/x-python",
   "name": "python",
   "nbconvert_exporter": "python",
   "pygments_lexer": "ipython3",
   "version": "3.11.9"
  }
 },
 "nbformat": 4,
 "nbformat_minor": 5
}
